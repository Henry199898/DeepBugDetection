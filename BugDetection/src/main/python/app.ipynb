{
 "cells": [
  {
   "cell_type": "markdown",
   "metadata": {},
   "source": [
    "# BugDetection Server\n",
    "使用Flask框架搭建一个后端\n",
    "\n",
    "### 1. 引入必要的包"
   ]
  },
  {
   "cell_type": "code",
   "execution_count": null,
   "metadata": {
    "scrolled": true
   },
   "outputs": [],
   "source": [
    "# -*- coding: utf-8 -*-    \n",
    "#__author__=\"wowxinn\" \n",
    "\n",
    "from flask import Flask, jsonify, abort\n",
    "from flask import request    \n",
    "from flask import make_response,Response    \n",
    "\n",
    "import json   \n",
    "\n",
    "import model_seq.predictor as predictor\n",
    "from model_seq.predictor import SeqLSTM as lstm\n",
    "import model_seq.vocabhandler as vocabhandler"
   ]
  },
  {
   "cell_type": "markdown",
   "metadata": {},
   "source": [
    "### 2. 在这里定义一些函数与方法"
   ]
  },
  {
   "cell_type": "code",
   "execution_count": null,
   "metadata": {},
   "outputs": [],
   "source": [
    "def Response_headers(content):    \n",
    "    resp = Response(content)    \n",
    "    resp.headers['Access-Control-Allow-Origin'] = '*'    \n",
    "    return resp"
   ]
  },
  {
   "cell_type": "markdown",
   "metadata": {},
   "source": [
    "### 3. 在这里存储一些服务器的数据"
   ]
  },
  {
   "cell_type": "code",
   "execution_count": null,
   "metadata": {},
   "outputs": [],
   "source": [
    "tasks = [\n",
    "    {\n",
    "        'id': 1,\n",
    "        'title': u'BugDetection',\n",
    "        'description': u'wowxinn',\n",
    "        'done': False\n",
    "    }\n",
    "]\n",
    "\n",
    "predictor = lstm()\n",
    "sess = predictor.sess\n",
    "# predictor.predict([[9]])"
   ]
  },
  {
   "cell_type": "markdown",
   "metadata": {},
   "source": [
    "### 4. 在这里定义了API的入口，使用了Flask的route机制"
   ]
  },
  {
   "cell_type": "code",
   "execution_count": null,
   "metadata": {},
   "outputs": [],
   "source": [
    "app = Flask(__name__)\n",
    "\n",
    "@app.route('/')\n",
    "def index():\n",
    "    return \"Hello, World!\"\n",
    "\n",
    "@app.route('/apis/tasks/<int:task_id>', methods=['GET'])\n",
    "def get_task(task_id):\n",
    "    task = list(filter(lambda t: t['id'] == task_id, tasks)) ## 这里用list转了一下filter的返回类型\n",
    "    if len(task) == 0:\n",
    "        abort(404)\n",
    "    return jsonify({'task': task[0]})\n",
    "\n",
    "@app.route('/apis/predicts', methods=['POST'])  \n",
    "def predicts():  \n",
    "    if request.method == 'POST':    \n",
    "        # POST:  \n",
    "        # request.form获得所有post参数放在一个类似dict类中,to_dict()是字典化  \n",
    "        # 单个参数可以通过request.form.to_dict().get(\"xxx\",\"\")获得  \n",
    "        # ----------------------------------------------------  \n",
    "        # GET:  \n",
    "        # request.args获得所有get参数放在一个类似dict类中,to_dict()是字典化  \n",
    "        # 单个参数可以通过request.args.to_dict().get('xxx',\"\")获得  \n",
    "        \n",
    "        inputs = request.get_json(force=True).get(\"input\")\n",
    "        print(\"[INFO]getting api sequence:\",inputs[\"seq\"])\n",
    "        \n",
    "        # 这里做了一个去掉unk API调用的过滤\n",
    "        idx = [vocabhandler.get_id(w) for w in inputs[\"seq\"] if vocabhandler.get_id(w) > 0] \n",
    "        print(\"[INFO]convert to id sequence:\",idx)\n",
    "        \n",
    "        # 这里可以加一个预测，然后返回预测的内容\n",
    "        (class_top_n_values, class_top_n_indices) = predictor.predict([idx])\n",
    "        return jsonify({'predictValues': class_top_n_values[0].tolist(), 'predictIndices': class_top_n_indices[0].tolist()})\n",
    "    else:    \n",
    "        content = json.dumps({\"error_code\":\"1001\"})    \n",
    "        resp = Response_headers(content)    \n",
    "        return resp"
   ]
  },
  {
   "cell_type": "markdown",
   "metadata": {},
   "source": [
    "### 5. 启动整个框架的入口"
   ]
  },
  {
   "cell_type": "code",
   "execution_count": null,
   "metadata": {
    "scrolled": true
   },
   "outputs": [],
   "source": [
    "if __name__ == '__main__':\n",
    "    vocabhandler.load_vocab()\n",
    "    app.run( \n",
    "        debug = True,\n",
    "        use_reloader=False,\n",
    "        port=5000\n",
    "    )"
   ]
  }
 ],
 "metadata": {
  "kernelspec": {
   "display_name": "Python 2 (tf.1.0..0)",
   "language": "python",
   "name": "py2tf100"
  },
  "language_info": {
   "codemirror_mode": {
    "name": "ipython",
    "version": 2
   },
   "file_extension": ".py",
   "mimetype": "text/x-python",
   "name": "python",
   "nbconvert_exporter": "python",
   "pygments_lexer": "ipython2",
   "version": "2.7.17"
  }
 },
 "nbformat": 4,
 "nbformat_minor": 2
}
